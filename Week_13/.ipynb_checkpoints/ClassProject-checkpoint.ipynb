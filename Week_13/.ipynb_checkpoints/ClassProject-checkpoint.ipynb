{
 "cells": [
  {
   "cell_type": "code",
   "execution_count": 30,
   "id": "33dba29e",
   "metadata": {
    "scrolled": true
   },
   "outputs": [
    {
     "name": "stdout",
     "output_type": "stream",
     "text": [
      "Enter Student Details Below\n",
      "Enter the number of students: 5\n",
      "Enter student name: Oluchi Mordi\n",
      "Enter matric number  ACC10211111\n",
      "Enter Department Accounting\n",
      "Enter Level 300\n",
      "Enter student name:  Adams Aliyu\n",
      "Enter matric number ECO10110101\n",
      "Enter Department Economics\n",
      "Enter Level 100\n",
      "Enter student name: Shania Bolad\n",
      "Enter matric number  CSC10328828\n",
      "Enter Department  Computer\n",
      "Enter Level 200\n",
      "Enter student name: Adekunle Gold\n",
      "Enter matric number EEE11020202\n",
      "Enter Department Electrical\n",
      "Enter Level 200\n",
      "Enter student name: Blanca Edemoh\n",
      "Enter matric number MEE10202001\n",
      "Enter Department Mechanical\n",
      "Enter Level 100\n"
     ]
    },
    {
     "data": {
      "text/html": [
       "<div>\n",
       "<style scoped>\n",
       "    .dataframe tbody tr th:only-of-type {\n",
       "        vertical-align: middle;\n",
       "    }\n",
       "\n",
       "    .dataframe tbody tr th {\n",
       "        vertical-align: top;\n",
       "    }\n",
       "\n",
       "    .dataframe thead th {\n",
       "        text-align: right;\n",
       "    }\n",
       "</style>\n",
       "<table border=\"1\" class=\"dataframe\">\n",
       "  <thead>\n",
       "    <tr style=\"text-align: right;\">\n",
       "      <th></th>\n",
       "      <th>Student Name</th>\n",
       "      <th>Matric Number</th>\n",
       "      <th>Department</th>\n",
       "      <th>Level</th>\n",
       "    </tr>\n",
       "  </thead>\n",
       "  <tbody>\n",
       "    <tr>\n",
       "      <th>0</th>\n",
       "      <td>Oluchi Mordi</td>\n",
       "      <td>[ACC10211111]</td>\n",
       "      <td>[Accounting]</td>\n",
       "      <td>[300]</td>\n",
       "    </tr>\n",
       "    <tr>\n",
       "      <th>1</th>\n",
       "      <td>Adams Aliyu</td>\n",
       "      <td>[ECO10110101]</td>\n",
       "      <td>[Economics]</td>\n",
       "      <td>[100]</td>\n",
       "    </tr>\n",
       "    <tr>\n",
       "      <th>2</th>\n",
       "      <td>Shania Bolad</td>\n",
       "      <td>[CSC10328828]</td>\n",
       "      <td>[Computer]</td>\n",
       "      <td>[200]</td>\n",
       "    </tr>\n",
       "    <tr>\n",
       "      <th>3</th>\n",
       "      <td>Adekunle Gold</td>\n",
       "      <td>[EEE11020202]</td>\n",
       "      <td>[Electrical]</td>\n",
       "      <td>[200]</td>\n",
       "    </tr>\n",
       "    <tr>\n",
       "      <th>4</th>\n",
       "      <td>Blanca Edemoh</td>\n",
       "      <td>[MEE10202001]</td>\n",
       "      <td>[Mechanical]</td>\n",
       "      <td>[100]</td>\n",
       "    </tr>\n",
       "  </tbody>\n",
       "</table>\n",
       "</div>"
      ],
      "text/plain": [
       "    Student Name  Matric Number    Department  Level\n",
       "0   Oluchi Mordi  [ACC10211111]  [Accounting]  [300]\n",
       "1    Adams Aliyu  [ECO10110101]   [Economics]  [100]\n",
       "2   Shania Bolad  [CSC10328828]    [Computer]  [200]\n",
       "3  Adekunle Gold  [EEE11020202]  [Electrical]  [200]\n",
       "4  Blanca Edemoh  [MEE10202001]  [Mechanical]  [100]"
      ]
     },
     "metadata": {},
     "output_type": "display_data"
    }
   ],
   "source": [
    "#Question 1\n",
    "import pandas as pd\n",
    "class SIMS ():\n",
    "    def details(self):\n",
    "        print(\"Enter Student Details Below\")\n",
    "        num_students = int(input(\"Enter the number of students: \"))\n",
    "        data = {\n",
    "            'Student Name': [],\n",
    "            'Matric Number': [],\n",
    "            'Department': [],\n",
    "            'Level': []\n",
    "        }\n",
    "        for i in range(num_students):\n",
    "            student_name = input(\"Enter student name: \")\n",
    "            matric_number = input(\"Enter matric number \").split()\n",
    "            department = input(\"Enter Department \").split()\n",
    "            level = input(\"Enter Level \").split()\n",
    "            data['Student Name'].append(student_name)\n",
    "            data['Matric Number'].append(matric_number)\n",
    "            data['Department'].append(department)\n",
    "            data['Level'].append(level)\n",
    "            \n",
    "        df =pd.DataFrame(data)\n",
    "        display(df)\n",
    "        df[['Student Name', 'Matric Number', 'Department', 'Level']]\n",
    "        df.to_excel('Student details.xlsx')\n",
    "val=SIMS()\n",
    "val.details()"
   ]
  },
  {
   "cell_type": "code",
   "execution_count": null,
   "id": "9d4c6643",
   "metadata": {},
   "outputs": [],
   "source": [
    "\n"
   ]
  },
  {
   "cell_type": "code",
   "execution_count": null,
   "id": "7f04303c",
   "metadata": {},
   "outputs": [],
   "source": []
  }
 ],
 "metadata": {
  "kernelspec": {
   "display_name": "Python 3 (ipykernel)",
   "language": "python",
   "name": "python3"
  },
  "language_info": {
   "codemirror_mode": {
    "name": "ipython",
    "version": 3
   },
   "file_extension": ".py",
   "mimetype": "text/x-python",
   "name": "python",
   "nbconvert_exporter": "python",
   "pygments_lexer": "ipython3",
   "version": "3.10.9"
  }
 },
 "nbformat": 4,
 "nbformat_minor": 5
}

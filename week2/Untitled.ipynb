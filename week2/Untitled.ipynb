{
 "cells": [
  {
   "cell_type": "code",
   "execution_count": 11,
   "id": "869f44ec",
   "metadata": {},
   "outputs": [
    {
     "name": "stdout",
     "output_type": "stream",
     "text": [
      "Please enter the principal3000\n",
      "Please enter the  Rate40\n",
      "Please enter the time 5\n",
      "The simple interest is 9000.0.\n"
     ]
    }
   ],
   "source": [
    "#Calculation of simple interest\n",
    "value1 = int(input(\"Please enter the principal\"))\n",
    "value2 = int(input(\"Please enter the  Rate\"))\n",
    "value3 = int(input(\"Please enter the time \"))\n",
    "Simple_interest = value1 * (1 + ( (value2/100) * value3))\n",
    "Simple_interest = str(Simple_interest)\n",
    "print(\"The simple interest is \" + Simple_interest + \".\")\n"
   ]
  },
  {
   "cell_type": "markdown",
   "id": "c907208e",
   "metadata": {},
   "source": [
    " "
   ]
  },
  {
   "cell_type": "code",
   "execution_count": 13,
   "id": "92733248",
   "metadata": {},
   "outputs": [
    {
     "name": "stdout",
     "output_type": "stream",
     "text": [
      "Please enter Principal2000\n",
      "Please enter Rate3\n",
      "Please  enter Time5\n",
      "Please enter Compunding time2\n",
      "The compound interest is 19073486.328125.\n"
     ]
    }
   ],
   "source": [
    "# calculation of compound interest\n",
    "value1 = int(input(\"Please enter Principal \"))\n",
    "value2 = int(input(\"Please enter Rate \"))\n",
    "value3 = int(input(\"Please  enter Time \"))\n",
    "value4 = int(input(\"Please enter Compunding time \"))\n",
    "compound_interest = value1 * ( 1 + (value2/value4) ) ** (value3 * value4)\n",
    "compound_interest = str(compound_interest)\n",
    "print(\"The compound interest is \" + compound_interest + \".\")"
   ]
  },
  {
   "cell_type": "code",
   "execution_count": null,
   "id": "d6f79acd",
   "metadata": {},
   "outputs": [],
   "source": []
  },
  {
   "cell_type": "code",
   "execution_count": 16,
   "id": "71d53e60",
   "metadata": {},
   "outputs": [
    {
     "name": "stdout",
     "output_type": "stream",
     "text": [
      "Please enter Amount 3000\n",
      "Please enter Rate 20\n",
      "Please  enter Time 3\n",
      "Please enter Compunding time 4\n",
      "The Annuity is 6530347005000.0.\n"
     ]
    }
   ],
   "source": [
    "#calculation of annuity plan\n",
    "value1 = int(input(\"Please enter Amount \"))\n",
    "value2 = int(input(\"Please enter Rate \"))\n",
    "value3 = int(input(\"Please  enter Time \"))\n",
    "value4 = int(input(\"Please enter Compunding time \"))\n",
    "annuity = value1 * (  (1 + (value2/value4) ) ** (value4 * value3)  - 1 ) \n",
    "annuity = str(annuity)\n",
    "print(\"The Annuity is \" + annuity + \".\")\n",
    "\n"
   ]
  },
  {
   "cell_type": "code",
   "execution_count": null,
   "id": "961d08e0",
   "metadata": {},
   "outputs": [],
   "source": []
  }
 ],
 "metadata": {
  "kernelspec": {
   "display_name": "Python 3 (ipykernel)",
   "language": "python",
   "name": "python3"
  },
  "language_info": {
   "codemirror_mode": {
    "name": "ipython",
    "version": 3
   },
   "file_extension": ".py",
   "mimetype": "text/x-python",
   "name": "python",
   "nbconvert_exporter": "python",
   "pygments_lexer": "ipython3",
   "version": "3.10.9"
  }
 },
 "nbformat": 4,
 "nbformat_minor": 5
}

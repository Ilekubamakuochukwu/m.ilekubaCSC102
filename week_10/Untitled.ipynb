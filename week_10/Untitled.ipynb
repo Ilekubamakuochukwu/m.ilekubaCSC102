{
 "cells": [
  {
   "cell_type": "code",
   "execution_count": 5,
   "id": "a486d3d8",
   "metadata": {},
   "outputs": [
    {
     "name": "stdout",
     "output_type": "stream",
     "text": [
      "Enter 1 for Area of Trapezium, Enter 2 for Area of Rhombus, Enter 3 for Area of Parallelogram,  Enter 4 for area of Cube, Enter 5 for Volume of Cylinder3\n",
      "Enter base 14\n",
      "Enter altitude 18\n",
      "The Area of the Parallelogram is  252\n"
     ]
    }
   ],
   "source": [
    "#Project 2\n",
    "class formula():\n",
    "    def AofTrap(self):\n",
    "     height = int(input(\"Enter the height\"))\n",
    "     Base1 = int(input(\"Enter the first base\"))\n",
    "     Base2 = int(input(\"Enter the second base\"))\n",
    "     A_of_Trap = height/2*(Base1 + Base2)\n",
    "     print(\"The Area of the Trapezium is \", A_of_Trap)\n",
    "    \n",
    "    def Aofrhm (self):\n",
    "     dig1 = int(input(\"Enter Diagonal1 \"))\n",
    "     dig2 = int(input(\"Enter Diagonal2 \"))\n",
    "     aor = 0.5 * dig1 * dig2\n",
    "     print(\"The Area of the Rhombus is \", aor)\n",
    "    \n",
    "    def Aofpara(self):\n",
    "     base = int(input(\"Enter base \"))\n",
    "     alt = int(input(\"Enter altitude \"))\n",
    "     aop = base * alt\n",
    "     print (\"The Area of the Parallelogram is \", aop)\n",
    "    \n",
    "    def Aofcube(self):\n",
    "     leng = int(input(\"Enter the length of side \"))\n",
    "     aoc = 6 * (leng)^2\n",
    "     print(\"The Area of the Cube is \", aoc)\n",
    "    \n",
    "    def Vofcylinder(self):\n",
    "     rad = int(input(\"Enter radius \"))\n",
    "     hgt = int(input(\"Enter height \"))\n",
    "     voc = (22 / 7) * (rad^2) * hgt\n",
    "     print (\"The volume of Cylinder is \", voc)\n",
    "    \n",
    "val = formula()\n",
    "No = int(input(\"Enter 1 for Area of Trapezium, Enter 2 for Area of Rhombus, Enter 3 for Area of Parallelogram,  Enter 4 for area of Cube, Enter 5 for Volume of Cylinder\"))\n",
    "\n",
    "if No == 1:\n",
    "  val.AofTrap()\n",
    "elif No == 2:\n",
    "   val.Aofrhm()\n",
    "elif No == 3:\n",
    "   val.Aofpara()\n",
    "elif No == 4:\n",
    "    val.Aofcube()\n",
    "elif No == 5:\n",
    "    val.Vofcylinder()\n",
    "else :\n",
    "  print(\"Invalid input\")"
   ]
  },
  {
   "cell_type": "code",
   "execution_count": 4,
   "id": "efbb2232",
   "metadata": {},
   "outputs": [
    {
     "name": "stdout",
     "output_type": "stream",
     "text": [
      "Enter the quantity you need: 8000\n",
      "We dont have up to that amount. Please select another amount\n",
      "Please enter another amount: 4000\n",
      "Please confirm  the quantity you need: 400\n",
      "The cost of 1 orange is 100naira\n",
      "The total cost of the oranges is  40000\n",
      "Thanks for your Patronage!!\n"
     ]
    }
   ],
   "source": [
    "#Project1\n",
    "class oranges():\n",
    "    def cost(self):\n",
    "     qty = int(input(\"Please confirm  the quantity you need: \"))\n",
    "     print(\"The cost of 1 orange is 100naira\") \n",
    "     Tcst = 100 * qty\n",
    "     print (\"The total cost of the oranges is \", Tcst)\n",
    "     print(\"Thanks for your Patronage!!\")\n",
    "val = oranges()\n",
    "Quantity = int(input(\"Enter the quantity you need: \"))\n",
    "if Quantity < 3000:\n",
    "    val.cost()\n",
    "elif Quantity > 3000:\n",
    "    print(\"We dont have up to that amount. Please select another amount\")\n",
    "    qty = int(input(\"Please enter another amount: \"))\n",
    "    val.cost()\n",
    "else:\n",
    "    print(\"Sorry we can't attend to you\")\n",
    "    \n",
    "\n",
    "     "
   ]
  },
  {
   "cell_type": "code",
   "execution_count": 39,
   "id": "2249cda7",
   "metadata": {},
   "outputs": [],
   "source": [
    "#Project3\n",
    "import pandas as pd\n",
    "\n",
    "class Nigerian_Breweries_ltd:\n",
    "    def high_quality(self):\n",
    "         drinks = {'Lager':['33 Export', 'Desperados', 'Goldberg', 'Gulder', 'Henieken', 'Star'],\n",
    "              'Stout':['Legend', 'Turbo king', 'Williams','', '', ''],\n",
    "              'Non-Alcoholic':['Maltina', 'Amstel Malta', 'Malta Gold', 'Fayrouz', '', '']}\n",
    "         df = pd.DataFrame(drinks)\n",
    "         df.to_csv('High Quality Drinks.csv')\n",
    "         df\n",
    "\n",
    "        \n",
    "\n",
    "val = Nigerian_Breweries_ltd()\n",
    "val.high_quality()\n",
    "\n",
    "\n",
    "\n",
    "\n"
   ]
  },
  {
   "cell_type": "code",
   "execution_count": null,
   "id": "eb5814fc",
   "metadata": {},
   "outputs": [],
   "source": []
  },
  {
   "cell_type": "code",
   "execution_count": null,
   "id": "5c58604b",
   "metadata": {},
   "outputs": [],
   "source": []
  }
 ],
 "metadata": {
  "kernelspec": {
   "display_name": "Python 3 (ipykernel)",
   "language": "python",
   "name": "python3"
  },
  "language_info": {
   "codemirror_mode": {
    "name": "ipython",
    "version": 3
   },
   "file_extension": ".py",
   "mimetype": "text/x-python",
   "name": "python",
   "nbconvert_exporter": "python",
   "pygments_lexer": "ipython3",
   "version": "3.10.9"
  }
 },
 "nbformat": 4,
 "nbformat_minor": 5
}

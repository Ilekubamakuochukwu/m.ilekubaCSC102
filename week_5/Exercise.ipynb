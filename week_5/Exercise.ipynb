{
 "cells": [
  {
   "cell_type": "code",
   "execution_count": 3,
   "id": "05f01299",
   "metadata": {},
   "outputs": [
    {
     "name": "stdout",
     "output_type": "stream",
     "text": [
      "Enter name of City 1:Lekki\n",
      "Enter name of city 2:Festac\n",
      "The name of city 1 after swapping is Festac\n",
      "The name of city 2 after swapping is Lekki\n"
     ]
    }
   ],
   "source": [
    "#python program to swap two cities\n",
    "# to take inputs from the user\n",
    "city_1 = input('Enter name of City 1:')\n",
    "city_2 = input('Enter name of city 2:')\n",
    "\n",
    "#Create a temporary variable and swap the cities\n",
    "temp = city_1\n",
    "city_1 = city_2\n",
    "city_2 = temp\n",
    "\n",
    "print(f\"The name of city 1 after swapping is {city_1}\")\n",
    "print(f\"The name of city 2 after swapping is {city_2}\")\n",
    "      "
   ]
  },
  {
   "cell_type": "code",
   "execution_count": 7,
   "id": "72edd26b",
   "metadata": {},
   "outputs": [
    {
     "name": "stdout",
     "output_type": "stream",
     "text": [
      "Enter a numbber: 2\n",
      "Positive number\n"
     ]
    }
   ],
   "source": [
    "#Program to check if a number is positive, Negative or 0\n",
    "\n",
    "num = float(input(\"Enter a numbber: \"))\n",
    "if num > 0:\n",
    "         print(\"Positive number\")\n",
    "elif num == 0:\n",
    "        print(\"Zero\")\n",
    "else:\n",
    "       print(\"Negative number\")\n",
    "            "
   ]
  },
  {
   "cell_type": "code",
   "execution_count": 10,
   "id": "29f62863",
   "metadata": {},
   "outputs": [
    {
     "name": "stdout",
     "output_type": "stream",
     "text": [
      "Welcome to Coup De Escriva 2023: Football Picks \n",
      "\n",
      "Madiba: Chubby obiora okafo\n",
      "Blue-Jays: Christopher uweh\n",
      "Cirok: Alexander\n",
      "TSG Walkers: Ikechukwu\n",
      "\n",
      "\n",
      "Madiba: chubby obiora okafor\n",
      "Blue-Jays: Oladimaji Abaniwonda/Jeffery Awagu\n",
      "Cirok: Timileyin Pearse/Izuako Jeremy\n",
      "TSG Walkers: Ayomide Ojituku\n"
     ]
    }
   ],
   "source": [
    "#COUP DE ESCRIVA 2023: FOOTBALL PICKS\n",
    "\n",
    "print(\"Welcome to Coup De Escriva 2023: Football Picks \\n\")\n",
    "\n",
    "captain = {'Madiba:': 'Chubby obiora okafo', 'Blue-Jays:': 'Christopher uweh', 'Cirok:': 'Alexander', 'TSG Walkers:' :'Ikechukwu'}\n",
    "\n",
    "goalkeepers = { 'Madiba:': 'chubby obiora okafor', 'Blue-Jays:': 'Oladimaji Abaniwonda/Jeffery Awagu', 'Cirok:': 'Timileyin Pearse/Izuako Jeremy', 'TSG Walkers:': 'Ayomide Ojituku'}\n",
    "\n",
    "for pick in captain:\n",
    "    print (pick,captain[pick])\n",
    "    \n",
    "print(\"\\n\")\n",
    "\n",
    "for pick in goalkeepers:\n",
    "    print(pick,goalkeepers[pick])"
   ]
  },
  {
   "cell_type": "code",
   "execution_count": null,
   "id": "2aa01e34",
   "metadata": {},
   "outputs": [],
   "source": []
  }
 ],
 "metadata": {
  "kernelspec": {
   "display_name": "Python 3 (ipykernel)",
   "language": "python",
   "name": "python3"
  },
  "language_info": {
   "codemirror_mode": {
    "name": "ipython",
    "version": 3
   },
   "file_extension": ".py",
   "mimetype": "text/x-python",
   "name": "python",
   "nbconvert_exporter": "python",
   "pygments_lexer": "ipython3",
   "version": "3.10.9"
  }
 },
 "nbformat": 4,
 "nbformat_minor": 5
}

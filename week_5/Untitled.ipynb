{
 "cells": [
  {
   "cell_type": "code",
   "execution_count": 30,
   "id": "efe18218",
   "metadata": {},
   "outputs": [
    {
     "name": "stdout",
     "output_type": "stream",
     "text": [
      "These are the student Details.\n",
      "These are the Details of the Girls\n",
      "      Name|Age|Height|Score\n",
      "Samantha  | 17 | 5.5 | 80\n",
      "Jada      | 16 | 6.0 | 85\n",
      "Jane      | 17 | 5.4 | 70\n",
      "Claire    | 18 | 5.9 | 60\n",
      "Elizabeth | 16 | 5.6 | 76\n",
      "Mary      | 18 | 5.5 | 66\n",
      "Susan     | 17 | 6.1 | 87\n",
      "Waje      | 20 | 6.0 | 95\n",
      "Tabitha   | 19 | 5.7 | 50\n",
      "Lilian    | 17 | 5.5 | 49\n",
      "These are the Details of the Boys\n",
      "    Name|Age|Height|Score\n",
      "Charlse | 19 | 5.7 | 74\n",
      "Jude    | 16 | 5.9 | 87\n",
      "James   | 18 | 5.8 | 75\n",
      "Kelvin  | 17 | 6.1 | 68\n",
      "Biodun  | 20 | 5.9 | 66\n",
      "Wale    | 19 | 5.5 | 78\n",
      "Kunle   | 16 | 6.1 | 87\n",
      "Matthew | 18 | 5.4 | 98\n",
      "Tom     | 17 | 5.8 | 54\n",
      "Kayode  | 19 | 5.7 | 60\n"
     ]
    }
   ],
   "source": [
    "#Project 1\n",
    "print(\"These are the student Details.\")\n",
    "\n",
    "Name = ['Samantha ', \n",
    "        'Jada     ',\n",
    "        'Jane     ', \n",
    "        'Claire   ', \n",
    "        'Elizabeth',\n",
    "        'Mary     ', \n",
    "        'Susan    ',\n",
    "        'Waje     ',\n",
    "        'Tabitha  ',\n",
    "        'Lilian   ']\n",
    "Age =  [ '17','16','17', '18', '16', '18', '17', '20', '19', '17']\n",
    "Height = [ '5.5', '6.0', '5.4', '5.9', '5.6', '5.5', '6.1', '6.0', '5.7','5.5']\n",
    "Score = [ '80', '85', '70', '60', '76', '66', '87', '95', '50', '49']\n",
    "\n",
    "\n",
    "print(\"These are the Details of the Girls\")\n",
    "print(\"      Name|Age|Height|Score\")\n",
    "\n",
    "for i in range(len(Name)):\n",
    "    print(Name[i] ,\"|\", Age[i],  \"|\", Height[i], \"|\", Score[i])\n",
    "print(\"These are the Details of the Boys\")\n",
    "print(\"    Name|Age|Height|Score\")\n",
    "Name = ['Charlse', \n",
    "        'Jude   ',\n",
    "        'James  ', \n",
    "        'Kelvin ', \n",
    "        'Biodun ',\n",
    "        'Wale   ', \n",
    "        'Kunle  ',\n",
    "        'Matthew',\n",
    "        'Tom    ',\n",
    "        'Kayode ']\n",
    "Age =  [ '19','16','18', '17', '20', '19', '16', '18', '17', '19']\n",
    "Height = [ '5.7', '5.9', '5.8', '6.1', '5.9', '5.5', '6.1', '5.4', '5.8','5.7']\n",
    "Score = [ '74', '87', '75', '68', '66', '78', '87', '98', '54', '60']\n",
    "\n",
    "for i in range(len(Name)):\n",
    "    print(Name[i] ,\"|\", Age[i],  \"|\", Height[i], \"|\", Score[i])"
   ]
  },
  {
   "cell_type": "code",
   "execution_count": null,
   "id": "f9a9f7b5",
   "metadata": {},
   "outputs": [],
   "source": [
    "print(\"Welcome to FinTechs\")\n",
    "for i in range(2500):\n",
    "        name = input(\"Enter Your Name: \")\n",
    "        print(f\"{name}Please Provide the necessary information\")\n",
    "e = int(input(\"How old are you?\"))\n",
    "a = int(input(\"How many years of Experience do you have?\"))\n",
    "\n",
    "if e >25 and a >= 55 :\n",
    "              print(\"Your annual tax revenue is 5600000 naira\")\n",
    "elif e > 20 and a  >= 45 :\n",
    "              print(\"Your annual tax revenue is 4480000 naira\")\n",
    "elif e > 10 and a >= 35 :\n",
    "               print(\"Your annual tax revenue is 1500000 naira\")\n",
    "elif e < 10 and a < 35 :\n",
    "               print(\"Your annual tax revenue is 550000 naira\")\n",
    "              \n",
    "              "
   ]
  },
  {
   "cell_type": "code",
   "execution_count": null,
   "id": "2cc9e7d1",
   "metadata": {},
   "outputs": [],
   "source": []
  },
  {
   "cell_type": "code",
   "execution_count": null,
   "id": "00c3ac01",
   "metadata": {},
   "outputs": [],
   "source": []
  },
  {
   "cell_type": "code",
   "execution_count": null,
   "id": "71fbc943",
   "metadata": {},
   "outputs": [],
   "source": []
  },
  {
   "cell_type": "code",
   "execution_count": null,
   "id": "9d641749",
   "metadata": {},
   "outputs": [],
   "source": []
  },
  {
   "cell_type": "code",
   "execution_count": null,
   "id": "6603d771",
   "metadata": {},
   "outputs": [],
   "source": []
  }
 ],
 "metadata": {
  "kernelspec": {
   "display_name": "Python 3 (ipykernel)",
   "language": "python",
   "name": "python3"
  },
  "language_info": {
   "codemirror_mode": {
    "name": "ipython",
    "version": 3
   },
   "file_extension": ".py",
   "mimetype": "text/x-python",
   "name": "python",
   "nbconvert_exporter": "python",
   "pygments_lexer": "ipython3",
   "version": "3.10.9"
  }
 },
 "nbformat": 4,
 "nbformat_minor": 5
}
